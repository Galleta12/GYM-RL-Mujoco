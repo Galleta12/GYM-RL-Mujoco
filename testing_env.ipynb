{
 "cells": [
  {
   "cell_type": "code",
   "execution_count": 1,
   "metadata": {},
   "outputs": [],
   "source": [
    "\n",
    "from datetime import datetime\n",
    "import functools\n",
    "import gymnasium as gym\n",
    "from agent_template.agent_template import HumanoidTemplate\n",
    "import mujoco as mj\n",
    "from utils.SimpleConverter import SimpleConverter\n",
    "import yaml\n",
    "from box import Box\n",
    "import numpy as np"
   ]
  },
  {
   "cell_type": "code",
   "execution_count": 2,
   "metadata": {},
   "outputs": [],
   "source": [
    "def load_args():\n",
    "    # Path to your YAML file\n",
    "    yaml_file_path = 'config_params/punch.yaml'\n",
    "    # Load the YAML file\n",
    "    with open(yaml_file_path, 'r') as file:\n",
    "        args = Box(yaml.safe_load(file))\n",
    "    \n",
    "    return args\n",
    "\n",
    "\n",
    "def load_arguments():\n",
    "    args = load_args()\n",
    "    trajectory = SimpleConverter(args.ref)\n",
    "    trajectory.load_mocap()\n",
    "    \n",
    "    return trajectory,args\n",
    "\n"
   ]
  },
  {
   "cell_type": "code",
   "execution_count": 3,
   "metadata": {},
   "outputs": [],
   "source": [
    "\n",
    "trajectory,args = load_arguments()\n"
   ]
  },
  {
   "cell_type": "code",
   "execution_count": 21,
   "metadata": {},
   "outputs": [
    {
     "name": "stdout",
     "output_type": "stream",
     "text": [
      "this is the model_path assets/models/final_humanoid.xml\n",
      "Reward weights - w_p: 0.65, w_v: 0.1, w_e: 0.15, w_c: 0.1\n",
      "Deep Mimic weights - w_pose: 2, w_angular: 0.1, w_efector: 40, w_com: 10\n",
      "end\n"
     ]
    }
   ],
   "source": [
    "\n",
    "\n",
    "env = HumanoidTemplate(model_path=args.model,reference_data=trajectory,args=args,\n",
    "                           frame_skip=1, render_mode=\"human\")\n",
    "observation, info = env.reset()\n",
    "for _ in range(1000):\n",
    "    action = env.action_space.sample()  # agent policy that uses the observation and info     \n",
    "    observation, reward, terminated, truncated, info = env.step(action)\n",
    "\n",
    "    if terminated or truncated:\n",
    "        #observation, info = env.reset()\n",
    "        print('end')\n",
    "        break\n",
    "\n",
    "env.close()\n",
    "    "
   ]
  },
  {
   "cell_type": "code",
   "execution_count": 5,
   "metadata": {},
   "outputs": [
    {
     "name": "stdout",
     "output_type": "stream",
     "text": [
      "0.02\n",
      "65\n",
      "130\n"
     ]
    }
   ],
   "source": [
    "print(env.model.opt.timestep)\n",
    "\n",
    "print(env.rollout_lenght)\n",
    "print(env.cycle_len)"
   ]
  },
  {
   "cell_type": "code",
   "execution_count": 6,
   "metadata": {},
   "outputs": [
    {
     "name": "stdout",
     "output_type": "stream",
     "text": [
      "[0.03125177 0.06669548 0.23453194]\n",
      "[1.20056004 1.2696906  0.83045276]\n"
     ]
    }
   ],
   "source": [
    "print(env.data.subtree_com[0,:])\n",
    "print(env.reference_data.subtree_com[0,:])"
   ]
  },
  {
   "cell_type": "code",
   "execution_count": 7,
   "metadata": {},
   "outputs": [
    {
     "data": {
      "text/plain": [
       "Box(-0.5, 0.5, (28,), float32)"
      ]
     },
     "execution_count": 7,
     "metadata": {},
     "output_type": "execute_result"
    }
   ],
   "source": [
    "env.action_space"
   ]
  },
  {
   "cell_type": "code",
   "execution_count": 8,
   "metadata": {},
   "outputs": [
    {
     "name": "stdout",
     "output_type": "stream",
     "text": [
      "[[-0.00672478  0.06839397  0.04486527]\n",
      " [-0.08886388 -0.02545323  0.46860531]\n",
      " [-0.78951892  0.34453823  0.17031632]\n",
      " [-0.79358615  0.3136229   0.37956955]]\n",
      "[[1.53434276 1.13005327 1.12301081]\n",
      " [1.14193208 1.41035345 0.94175013]\n",
      " [1.20941731 1.20669663 0.04990311]\n",
      " [0.95184073 1.25340477 0.12560501]]\n"
     ]
    }
   ],
   "source": [
    "print(env.data.geom_xpos[env.dict_ee])\n",
    "print(env.reference_data.geom_xpos[env.dict_ee])"
   ]
  },
  {
   "cell_type": "code",
   "execution_count": 9,
   "metadata": {},
   "outputs": [
    {
     "data": {
      "text/plain": [
       "<function some_math.rfctransformations.quaternion_from_euler(ai, aj, ak, axes='sxyz')>"
      ]
     },
     "execution_count": 9,
     "metadata": {},
     "output_type": "execute_result"
    }
   ],
   "source": [
    "from some_math import rfctransformations\n",
    "rfctransformations.quaternion_from_euler\n",
    "\n"
   ]
  },
  {
   "cell_type": "code",
   "execution_count": 10,
   "metadata": {},
   "outputs": [
    {
     "name": "stdout",
     "output_type": "stream",
     "text": [
      "13\n"
     ]
    }
   ],
   "source": [
    "body_names = [mj.mj_id2name(env.model, mj.mjtObj.mjOBJ_BODY, i) for i in range(env.model.nbody)]\n",
    "\n",
    "print(len(body_names[1:]))\n"
   ]
  },
  {
   "cell_type": "code",
   "execution_count": 11,
   "metadata": {},
   "outputs": [
    {
     "data": {
      "text/plain": [
       "14"
      ]
     },
     "execution_count": 11,
     "metadata": {},
     "output_type": "execute_result"
    }
   ],
   "source": [
    "env.model.nbody"
   ]
  },
  {
   "cell_type": "code",
   "execution_count": 12,
   "metadata": {},
   "outputs": [],
   "source": [
    "body_qposaddr = {\n",
    "            mj.mj_id2name(env.model, mj.mjtObj.mjOBJ_BODY, i): (env.model.body_jntadr[i], env.model.body_jntadr[i] + env.model.body_jntnum[i])\n",
    "            for i in range(env.model.nbody)\n",
    "        }"
   ]
  },
  {
   "cell_type": "code",
   "execution_count": 13,
   "metadata": {},
   "outputs": [
    {
     "data": {
      "text/plain": [
       "{'world': (-1, -1),\n",
       " 'root': (0, 1),\n",
       " 'chest': (1, 4),\n",
       " 'neck': (4, 7),\n",
       " 'right_shoulder': (7, 10),\n",
       " 'right_elbow': (10, 11),\n",
       " 'left_shoulder': (11, 14),\n",
       " 'left_elbow': (14, 15),\n",
       " 'right_hip': (15, 18),\n",
       " 'right_knee': (18, 19),\n",
       " 'right_ankle': (19, 22),\n",
       " 'left_hip': (22, 25),\n",
       " 'left_knee': (25, 26),\n",
       " 'left_ankle': (26, 29)}"
      ]
     },
     "execution_count": 13,
     "metadata": {},
     "output_type": "execute_result"
    }
   ],
   "source": [
    "body_qposaddr"
   ]
  },
  {
   "cell_type": "code",
   "execution_count": 14,
   "metadata": {},
   "outputs": [],
   "source": [
    "def get_body_quat(data):\n",
    "    qpos = data.qpos.copy()\n",
    "    body_quat = [qpos[3:7]]\n",
    "    for body in body_names[1:]:\n",
    "        print(body)\n",
    "        if body == 'root' or not body in body_qposaddr:\n",
    "            continue\n",
    "        start, end = body_qposaddr[body]\n",
    "        euler = np.zeros(3)\n",
    "        euler[:end - start] = qpos[start:end]\n",
    "        quat = rfctransformations.quaternion_from_euler(euler[0], euler[1], euler[2])\n",
    "        body_quat.append(quat)\n",
    "    body_quat = np.concatenate(body_quat)\n",
    "    return body_quat\n",
    "\n"
   ]
  },
  {
   "cell_type": "code",
   "execution_count": 15,
   "metadata": {},
   "outputs": [
    {
     "data": {
      "text/plain": [
       "array([ 1.15749186,  1.2052196 ,  0.779908  ,  0.93956125, -0.04013979,\n",
       "        0.0455905 ,  0.33694951, -0.0274556 ,  0.33943512, -0.07411261,\n",
       "        0.24039915, -0.14672062, -0.65170114, -0.44824064, -0.04377439,\n",
       "       -0.3751392 ,  2.18266927,  0.66939759,  0.21359398, -0.8169909 ,\n",
       "        2.01410563,  0.07981827, -0.67394493, -0.10625215, -1.12973068,\n",
       "       -0.1572688 , -0.26515211, -0.19503912,  0.29883702, -0.61212537,\n",
       "        0.19371584, -1.46266445, -0.03983083,  0.16201492, -0.032911  ])"
      ]
     },
     "execution_count": 15,
     "metadata": {},
     "output_type": "execute_result"
    }
   ],
   "source": [
    "env.reference_data.qpos"
   ]
  },
  {
   "cell_type": "code",
   "execution_count": 16,
   "metadata": {},
   "outputs": [
    {
     "name": "stdout",
     "output_type": "stream",
     "text": [
      "root\n",
      "chest\n",
      "neck\n",
      "right_shoulder\n",
      "right_elbow\n",
      "left_shoulder\n",
      "left_elbow\n",
      "right_hip\n",
      "right_knee\n",
      "right_ankle\n",
      "left_hip\n",
      "left_knee\n",
      "left_ankle\n"
     ]
    },
    {
     "data": {
      "text/plain": [
       "array([-0.5533727 , -0.58166088, -0.43361794, -0.40917571,  0.95670869,\n",
       "        0.04143719,  0.09133048, -0.27322187,  0.90353453, -0.31606276,\n",
       "       -0.14489016, -0.25047261,  0.99472867, -0.09967544, -0.0225187 ,\n",
       "       -0.00852029,  0.98858638, -0.15065515,  0.        ,  0.        ,\n",
       "        0.99396608, -0.07005027, -0.06248889,  0.05674088,  0.99936839,\n",
       "        0.03553614,  0.        ,  0.        ,  0.98202579,  0.15483359,\n",
       "        0.030558  ,  0.10352838,  0.99189024,  0.12709738,  0.        ,\n",
       "        0.        ,  0.99585179,  0.08999473,  0.00537175,  0.0123002 ,\n",
       "        0.99929474,  0.02835496, -0.01490668,  0.0195909 ,  0.99940491,\n",
       "        0.03449397,  0.        ,  0.        ,  0.99867465, -0.01617723,\n",
       "        0.0078937 ,  0.04821748])"
      ]
     },
     "execution_count": 16,
     "metadata": {},
     "output_type": "execute_result"
    }
   ],
   "source": [
    "quat = get_body_quat(env.data)\n",
    "quat\n"
   ]
  },
  {
   "cell_type": "code",
   "execution_count": 17,
   "metadata": {},
   "outputs": [
    {
     "data": {
      "text/plain": [
       "13"
      ]
     },
     "execution_count": 17,
     "metadata": {},
     "output_type": "execute_result"
    }
   ],
   "source": [
    "n_joint = quat.shape[0]//4\n",
    "n_joint"
   ]
  },
  {
   "cell_type": "code",
   "execution_count": 18,
   "metadata": {},
   "outputs": [
    {
     "data": {
      "text/plain": [
       "array([[ 0.02669728,  0.08389232,  0.20952685],\n",
       "       [ 0.25404032,  0.02080729,  0.19939195],\n",
       "       [ 0.46153429, -0.05409555,  0.23765863],\n",
       "       [ 0.50351723, -0.08725964,  0.05981138],\n",
       "       [ 0.2396838 , -0.01100098,  0.05059266],\n",
       "       [ 0.43987093, -0.07936626,  0.42037196],\n",
       "       [ 0.16711838, -0.05589543,  0.44411236],\n",
       "       [ 0.02389593,  0.08741524,  0.12475926],\n",
       "       [-0.38368176,  0.19291533,  0.14600054],\n",
       "       [-0.78002931,  0.29526604,  0.16664912],\n",
       "       [ 0.02949863,  0.08036941,  0.29429444],\n",
       "       [-0.37535897,  0.18954536,  0.3375606 ],\n",
       "       [-0.77573852,  0.26658357,  0.37945035]])"
      ]
     },
     "execution_count": 18,
     "metadata": {},
     "output_type": "execute_result"
    }
   ],
   "source": [
    "env.data.xpos[1:]"
   ]
  },
  {
   "cell_type": "code",
   "execution_count": 19,
   "metadata": {},
   "outputs": [
    {
     "name": "stdout",
     "output_type": "stream",
     "text": [
      "root\n",
      "chest\n",
      "neck\n",
      "right_shoulder\n",
      "right_elbow\n",
      "left_shoulder\n",
      "left_elbow\n",
      "right_hip\n",
      "right_knee\n",
      "right_ankle\n",
      "left_hip\n",
      "left_knee\n",
      "left_ankle\n",
      "root\n",
      "chest\n",
      "neck\n",
      "right_shoulder\n",
      "right_elbow\n",
      "left_shoulder\n",
      "left_elbow\n",
      "right_hip\n",
      "right_knee\n",
      "right_ankle\n",
      "left_hip\n",
      "left_knee\n",
      "left_ankle\n",
      "(52,)\n",
      "(39,)\n"
     ]
    }
   ],
   "source": [
    "initial = env.reference_trajectory_qpos[0]\n",
    "from some_math import rfcmath\n",
    "\n",
    "prev = get_body_quat(env.data)\n",
    "current= get_body_quat(env.data)\n",
    "print(current.shape)\n",
    "ang = rfcmath.get_angvel_fd(prev,current,env.dt)\n",
    "\n",
    "print(ang.shape)\n"
   ]
  },
  {
   "cell_type": "code",
   "execution_count": 20,
   "metadata": {},
   "outputs": [
    {
     "data": {
      "text/plain": [
       "(68,)"
      ]
     },
     "execution_count": 20,
     "metadata": {},
     "output_type": "execute_result"
    }
   ],
   "source": [
    "from some_math import rfcmath\n",
    "\n",
    "qvel = env.data.qvel\n",
    "qpos = env.data.qpos\n",
    "\n",
    "qvel[:3] = rfcmath.transform_vec(qvel[:3],qpos[3:7], 'root').ravel()\n",
    "\n",
    "obs = []\n",
    "\n",
    "obs.append(qpos[2:])\n",
    "\n",
    "obs.append(qvel)\n",
    "#plus phi on the env\n",
    "phi = (5% 130)/30\n",
    "\n",
    "obs.append([phi])\n",
    "\n",
    "obs = np.concatenate(obs)\n",
    "obs.shape\n",
    "#size 68\n",
    "\n",
    "\n"
   ]
  }
 ],
 "metadata": {
  "kernelspec": {
   "display_name": "gymRL",
   "language": "python",
   "name": "python3"
  },
  "language_info": {
   "codemirror_mode": {
    "name": "ipython",
    "version": 3
   },
   "file_extension": ".py",
   "mimetype": "text/x-python",
   "name": "python",
   "nbconvert_exporter": "python",
   "pygments_lexer": "ipython3",
   "version": "3.10.14"
  }
 },
 "nbformat": 4,
 "nbformat_minor": 2
}
